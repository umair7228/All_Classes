{
 "cells": [
  {
   "cell_type": "markdown",
   "id": "76d636fb",
   "metadata": {},
   "source": [
    "# Loops"
   ]
  },
  {
   "cell_type": "code",
   "execution_count": 18,
   "id": "2f62ae09",
   "metadata": {},
   "outputs": [],
   "source": [
    "list1 = [\"Umair\", \"Noman\", \"Salman\", \"Arsalan\"]"
   ]
  },
  {
   "cell_type": "code",
   "execution_count": 19,
   "id": "52980888",
   "metadata": {},
   "outputs": [
    {
     "name": "stdout",
     "output_type": "stream",
     "text": [
      "Not Found\n",
      "Not Found\n",
      "Found Salman in List\n"
     ]
    }
   ],
   "source": [
    "for temp_var in list1:\n",
    "    if temp_var == 'Salman':\n",
    "        print (\"Found Salman in List\")\n",
    "        break\n",
    "    else:\n",
    "        print (\"Not Found\")\n",
    "\n",
    "# It will stop when it found the name of salman in the list"
   ]
  },
  {
   "cell_type": "code",
   "execution_count": 20,
   "id": "02e4aec5",
   "metadata": {},
   "outputs": [],
   "source": [
    "# break allows you to exit a loop when an external condition is met."
   ]
  },
  {
   "cell_type": "code",
   "execution_count": 21,
   "id": "2f85c228",
   "metadata": {},
   "outputs": [
    {
     "name": "stdout",
     "output_type": "stream",
     "text": [
      "Not Found\n",
      "Not Found\n",
      "Found Salman in List\n",
      "Not Found\n"
     ]
    }
   ],
   "source": [
    "# without break keyword:\n",
    "\n",
    "for temp_var in list1:\n",
    "    if temp_var == 'Salman':\n",
    "        print (\"Found Salman in List\")\n",
    "    else:\n",
    "        print (\"Not Found\")\n",
    "# It will show the fourth name also in the list"
   ]
  },
  {
   "cell_type": "markdown",
   "id": "868d1fea",
   "metadata": {},
   "source": [
    "##  Making Tables by Loop"
   ]
  },
  {
   "cell_type": "code",
   "execution_count": 22,
   "id": "1ba9aff0",
   "metadata": {},
   "outputs": [
    {
     "name": "stdout",
     "output_type": "stream",
     "text": [
      "1\n",
      "2\n",
      "3\n",
      "4\n",
      "5\n",
      "6\n",
      "7\n",
      "8\n",
      "9\n",
      "10\n"
     ]
    }
   ],
   "source": [
    "for temp in range(1, 11):\n",
    "    print(temp)"
   ]
  },
  {
   "cell_type": "code",
   "execution_count": 23,
   "id": "5ff2c374",
   "metadata": {},
   "outputs": [
    {
     "name": "stdout",
     "output_type": "stream",
     "text": [
      "2 𐄂 1 = 2\n",
      "2 𐄂 2 = 4\n",
      "2 𐄂 3 = 6\n",
      "2 𐄂 4 = 8\n",
      "2 𐄂 5 = 10\n",
      "2 𐄂 6 = 12\n",
      "2 𐄂 7 = 14\n",
      "2 𐄂 8 = 16\n",
      "2 𐄂 9 = 18\n",
      "2 𐄂 10 = 20\n"
     ]
    }
   ],
   "source": [
    "for temp in range(1, 11):\n",
    "    print(f\"2 𐄂 {temp} = {temp * 2}\")"
   ]
  },
  {
   "cell_type": "markdown",
   "id": "6a8a6739",
   "metadata": {},
   "source": [
    "## Nested For Loop"
   ]
  },
  {
   "cell_type": "markdown",
   "id": "5a4c47ea",
   "metadata": {},
   "source": [
    "#### Without Nested for loop "
   ]
  },
  {
   "cell_type": "code",
   "execution_count": 24,
   "id": "212a5cdd",
   "metadata": {},
   "outputs": [
    {
     "name": "stdout",
     "output_type": "stream",
     "text": [
      "2 x 1 = 2\n",
      "2 x 2 = 4\n",
      "2 x 3 = 6\n",
      "2 x 4 = 8\n",
      "2 x 5 = 10\n",
      "2 x 6 = 12\n",
      "2 x 7 = 14\n",
      "2 x 8 = 16\n",
      "2 x 9 = 18\n",
      "2 x 10 = 20\n",
      "3 x 1 = 3\n",
      "3 x 2 = 6\n",
      "3 x 3 = 9\n",
      "3 x 4 = 12\n",
      "3 x 5 = 15\n",
      "3 x 6 = 18\n",
      "3 x 7 = 21\n",
      "3 x 8 = 24\n",
      "3 x 9 = 27\n",
      "3 x 10 = 30\n",
      "4 x 1 = 4\n",
      "4 x 2 = 8\n",
      "4 x 3 = 12\n",
      "4 x 4 = 16\n",
      "4 x 5 = 20\n",
      "4 x 6 = 24\n",
      "4 x 7 = 28\n",
      "4 x 8 = 32\n",
      "4 x 9 = 36\n",
      "4 x 10 = 40\n",
      "5 x 1 = 5\n",
      "5 x 2 = 10\n",
      "5 x 3 = 15\n",
      "5 x 4 = 20\n",
      "5 x 5 = 25\n",
      "5 x 6 = 30\n",
      "5 x 7 = 35\n",
      "5 x 8 = 40\n",
      "5 x 9 = 45\n",
      "5 x 10 = 50\n"
     ]
    }
   ],
   "source": [
    "for temp in range(1, 11):\n",
    "    print(f\"2 x {temp} = {temp * 2}\")\n",
    "for temp in range(1, 11):\n",
    "    print(f\"3 x {temp} = {temp * 3}\")\n",
    "for temp in range(1, 11):\n",
    "    print(f\"4 x {temp} = {temp * 4}\")\n",
    "for temp in range(1, 11):\n",
    "    print(f\"5 x {temp} = {temp * 5}\")"
   ]
  },
  {
   "cell_type": "markdown",
   "id": "b10960d0",
   "metadata": {},
   "source": [
    "#### Applying Nested For Loop "
   ]
  },
  {
   "cell_type": "code",
   "execution_count": 28,
   "id": "9077d0dc",
   "metadata": {},
   "outputs": [
    {
     "name": "stdout",
     "output_type": "stream",
     "text": [
      "Table of 2\n",
      "2 x 1 = 2\n",
      "2 x 2 = 4\n",
      "2 x 3 = 6\n",
      "2 x 4 = 8\n",
      "2 x 5 = 10\n",
      "2 x 6 = 12\n",
      "2 x 7 = 14\n",
      "2 x 8 = 16\n",
      "2 x 9 = 18\n",
      "2 x 10 = 20\n",
      "Table of 3\n",
      "3 x 1 = 3\n",
      "3 x 2 = 6\n",
      "3 x 3 = 9\n",
      "3 x 4 = 12\n",
      "3 x 5 = 15\n",
      "3 x 6 = 18\n",
      "3 x 7 = 21\n",
      "3 x 8 = 24\n",
      "3 x 9 = 27\n",
      "3 x 10 = 30\n",
      "Table of 4\n",
      "4 x 1 = 4\n",
      "4 x 2 = 8\n",
      "4 x 3 = 12\n",
      "4 x 4 = 16\n",
      "4 x 5 = 20\n",
      "4 x 6 = 24\n",
      "4 x 7 = 28\n",
      "4 x 8 = 32\n",
      "4 x 9 = 36\n",
      "4 x 10 = 40\n",
      "Table of 5\n",
      "5 x 1 = 5\n",
      "5 x 2 = 10\n",
      "5 x 3 = 15\n",
      "5 x 4 = 20\n",
      "5 x 5 = 25\n",
      "5 x 6 = 30\n",
      "5 x 7 = 35\n",
      "5 x 8 = 40\n",
      "5 x 9 = 45\n",
      "5 x 10 = 50\n"
     ]
    }
   ],
   "source": [
    "for temp in range(2, 6):\n",
    "    print(f\"Table of {temp}\")\n",
    "    for temp_2 in range(1, 11):\n",
    "        print(f\"{temp} x {temp_2} = {temp *temp_2}\")"
   ]
  },
  {
   "cell_type": "code",
   "execution_count": 1,
   "id": "fb9f738f",
   "metadata": {},
   "outputs": [
    {
     "name": "stdout",
     "output_type": "stream",
     "text": [
      "Table Start Number: 3\n",
      "Table End Number: 7\n",
      "Table Lenght: 5\n",
      "Table of 3\n",
      "3 x 1 = 3\n",
      "3 x 2 = 6\n",
      "3 x 3 = 9\n",
      "3 x 4 = 12\n",
      "3 x 5 = 15\n",
      "Table of 4\n",
      "4 x 1 = 4\n",
      "4 x 2 = 8\n",
      "4 x 3 = 12\n",
      "4 x 4 = 16\n",
      "4 x 5 = 20\n",
      "Table of 5\n",
      "5 x 1 = 5\n",
      "5 x 2 = 10\n",
      "5 x 3 = 15\n",
      "5 x 4 = 20\n",
      "5 x 5 = 25\n",
      "Table of 6\n",
      "6 x 1 = 6\n",
      "6 x 2 = 12\n",
      "6 x 3 = 18\n",
      "6 x 4 = 24\n",
      "6 x 5 = 30\n",
      "Table of 7\n",
      "7 x 1 = 7\n",
      "7 x 2 = 14\n",
      "7 x 3 = 21\n",
      "7 x 4 = 28\n",
      "7 x 5 = 35\n"
     ]
    }
   ],
   "source": [
    "table_start = int(input(\"Table Start Number: \"))\n",
    "table_end = int(input(\"Table End Number: \"))\n",
    "table_lenght = int(input(\"Table Lenght: \"))\n",
    "\n",
    "for temp in range(table_start, table_end + 1):\n",
    "    print(f\"Table of {temp}\")\n",
    "    for temp_2 in range(1, table_lenght + 1):\n",
    "        print(f\"{temp} x {temp_2} = {temp * temp_2}\")"
   ]
  },
  {
   "cell_type": "markdown",
   "id": "7a373a95",
   "metadata": {},
   "source": [
    "###  Use upper &lower Methods\n",
    "## upper"
   ]
  },
  {
   "cell_type": "code",
   "execution_count": 29,
   "id": "cdeca884",
   "metadata": {},
   "outputs": [
    {
     "data": {
      "text/plain": [
       "['Umair', 'Noman', 'Salman', 'Arsalan']"
      ]
     },
     "execution_count": 29,
     "metadata": {},
     "output_type": "execute_result"
    }
   ],
   "source": [
    "list1"
   ]
  },
  {
   "cell_type": "code",
   "execution_count": 42,
   "id": "fa9e4161",
   "metadata": {},
   "outputs": [],
   "source": [
    "list_upper = []\n",
    "\n",
    "for temp in list1:\n",
    "    list_upper.append(temp.upper())"
   ]
  },
  {
   "cell_type": "code",
   "execution_count": 43,
   "id": "a178810c",
   "metadata": {},
   "outputs": [
    {
     "data": {
      "text/plain": [
       "['UMAIR', 'NOMAN', 'SALMAN', 'ARSALAN']"
      ]
     },
     "execution_count": 43,
     "metadata": {},
     "output_type": "execute_result"
    }
   ],
   "source": [
    "list_upper"
   ]
  },
  {
   "cell_type": "markdown",
   "id": "7d7ef863",
   "metadata": {},
   "source": [
    "###  lower"
   ]
  },
  {
   "cell_type": "code",
   "execution_count": 44,
   "id": "8d98b739",
   "metadata": {},
   "outputs": [],
   "source": [
    "list_lower = []\n",
    "\n",
    "for temp in list1:\n",
    "    list_lower.append(temp.lower())"
   ]
  },
  {
   "cell_type": "code",
   "execution_count": 45,
   "id": "fe057e04",
   "metadata": {},
   "outputs": [
    {
     "data": {
      "text/plain": [
       "['umair', 'noman', 'salman', 'arsalan']"
      ]
     },
     "execution_count": 45,
     "metadata": {},
     "output_type": "execute_result"
    }
   ],
   "source": [
    "list_lower"
   ]
  },
  {
   "cell_type": "markdown",
   "id": "33eef847",
   "metadata": {},
   "source": [
    "###  Example 2"
   ]
  },
  {
   "cell_type": "code",
   "execution_count": 3,
   "id": "791e0990",
   "metadata": {},
   "outputs": [],
   "source": [
    "first_names = [\"Umair\", \"Noman\", \"Salman\",]\n",
    "last_names = [\"Nawaz\", \"Khan\", \"Bro\"]\n",
    "full_names = []\n",
    "for a_first_name in first_names:\n",
    "    for a_last_name in last_names:\n",
    "        full_names.append(a_first_name + \" \" + a_last_name )"
   ]
  },
  {
   "cell_type": "code",
   "execution_count": 4,
   "id": "b2be3ef7",
   "metadata": {},
   "outputs": [
    {
     "data": {
      "text/plain": [
       "['Umair Nawaz',\n",
       " 'Umair Khan',\n",
       " 'Umair Bro',\n",
       " 'Noman Nawaz',\n",
       " 'Noman Khan',\n",
       " 'Noman Bro',\n",
       " 'Salman Nawaz',\n",
       " 'Salman Khan',\n",
       " 'Salman Bro']"
      ]
     },
     "execution_count": 4,
     "metadata": {},
     "output_type": "execute_result"
    }
   ],
   "source": [
    "full_names"
   ]
  },
  {
   "cell_type": "markdown",
   "id": "7cc02a9e",
   "metadata": {},
   "source": [
    "## Creating a simple ID Card"
   ]
  },
  {
   "cell_type": "code",
   "execution_count": 8,
   "id": "4e1c1f7d",
   "metadata": {},
   "outputs": [
    {
     "name": "stdout",
     "output_type": "stream",
     "text": [
      "Enter Your Name: Umair\n",
      "Enter Your Father's Name: Muhammad Nawaz\n",
      "Enter CNIC Number: 9876543210\n",
      "Enter Your Course: Python Programming\n",
      "Your Entered Information\n",
      "Name: Umair\n",
      "Father's Name: Muhammad Nawaz\n",
      "CNIC: 9876543210\n",
      "Course: Python Programming\n",
      "*** Saylani Mass IT Training ***\n"
     ]
    }
   ],
   "source": [
    "name = input(\"Enter Your Name: \")\n",
    "fathername = input(\"Enter Your Father's Name: \")\n",
    "cnic = int(input(\"Enter CNIC Number: \"))\n",
    "course = input(\"Enter Your Course: \")\n",
    "\n",
    "print(\"Your Entered Information\")\n",
    "\n",
    "print(f\"Name: {name}\")\n",
    "print(f\"Father's Name: {fathername}\")\n",
    "print(f\"CNIC: {cnic}\")\n",
    "print(f\"Course: {course}\")\n",
    "\n",
    "print(\"*** Saylani Mass IT Training ***\")"
   ]
  }
 ],
 "metadata": {
  "kernelspec": {
   "display_name": "Python 3 (ipykernel)",
   "language": "python",
   "name": "python3"
  },
  "language_info": {
   "codemirror_mode": {
    "name": "ipython",
    "version": 3
   },
   "file_extension": ".py",
   "mimetype": "text/x-python",
   "name": "python",
   "nbconvert_exporter": "python",
   "pygments_lexer": "ipython3",
   "version": "3.11.5"
  }
 },
 "nbformat": 4,
 "nbformat_minor": 5
}
