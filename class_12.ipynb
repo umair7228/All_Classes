{
 "cells": [
  {
   "cell_type": "markdown",
   "id": "70daf5e2",
   "metadata": {},
   "source": [
    "### Creating a dictionary that contains a dictionary"
   ]
  },
  {
   "cell_type": "code",
   "execution_count": 1,
   "id": "9df2b7d2",
   "metadata": {},
   "outputs": [],
   "source": [
    "customers = [\n",
    "    {\"customer id\": 0,\n",
    "     \"first name\":\"John\",\n",
    "     \"last name\": \"Ogden\",\n",
    "     \"address\": \"301 Arbor Rd.\",},\n",
    "    {\"customer id\": 1,\n",
    "     \"first name\":\"Ann\",\n",
    "     \"last name\": \"Sattermyer\",\n",
    "     \"address\": \"PO Box 1145\",},\n",
    "    {\"customer id\": 2,\n",
    "     \"first name\":\"Jill\",\n",
    "     \"last name\": \"Somers\",\n",
    "     \"address\": \"3 Main St.\",}\n",
    "]"
   ]
  },
  {
   "cell_type": "code",
   "execution_count": 4,
   "id": "d964d77a",
   "metadata": {},
   "outputs": [],
   "source": [
    "dict_of_dict = {\n",
    "    \"customer1\" : {\"customer id\": 0,\n",
    "                   \"first name\":\"John\",\n",
    "                   \"last name\": \"Ogden\",\n",
    "                   \"address\": \"301 Arbor Rd.\",},\n",
    "    \"customer2\" : {\"customer id\": 1,\n",
    "                   \"first name\":\"Ann\",\n",
    "                   \"last name\": \"Sattermyer\",\n",
    "                   \"address\": \"PO Box 1145\",},\n",
    "    \"customer3\" : {\"customer id\": 2,\n",
    "                   \"first name\":\"Jill\",\n",
    "                   \"last name\": \"Somers\",\n",
    "                   \"address\": \"3 Main St.\",}\n",
    "}"
   ]
  },
  {
   "cell_type": "code",
   "execution_count": 11,
   "id": "5b9494b5",
   "metadata": {},
   "outputs": [
    {
     "data": {
      "text/plain": [
       "{'customer id': 0,\n",
       " 'first name': 'John',\n",
       " 'last name': 'Ogden',\n",
       " 'address': '301 Arbor Rd.'}"
      ]
     },
     "execution_count": 11,
     "metadata": {},
     "output_type": "execute_result"
    }
   ],
   "source": [
    "dict_of_dict[\"customer1\"]"
   ]
  },
  {
   "cell_type": "code",
   "execution_count": 13,
   "id": "86291e88",
   "metadata": {},
   "outputs": [
    {
     "data": {
      "text/plain": [
       "'301 Arbor Rd.'"
      ]
     },
     "execution_count": 13,
     "metadata": {},
     "output_type": "execute_result"
    }
   ],
   "source": [
    "dict_of_dict[\"customer1\"][\"address\"]"
   ]
  },
  {
   "cell_type": "code",
   "execution_count": 21,
   "id": "b31b69bd",
   "metadata": {},
   "outputs": [
    {
     "data": {
      "text/plain": [
       "dict_keys(['customer1', 'customer2', 'customer3'])"
      ]
     },
     "execution_count": 21,
     "metadata": {},
     "output_type": "execute_result"
    }
   ],
   "source": [
    "dict_of_dict.keys()"
   ]
  },
  {
   "cell_type": "code",
   "execution_count": 44,
   "id": "5eac3354",
   "metadata": {},
   "outputs": [
    {
     "name": "stdout",
     "output_type": "stream",
     "text": [
      "John\n",
      "Ogden\n",
      "301 Arbor Rd.\n"
     ]
    }
   ],
   "source": [
    "for customer in dict_of_dict[\"customer1\"].keys():\n",
    "    if customer == \"customer id\":\n",
    "        continue\n",
    "    print(dict_of_dict[\"customer1\"][customer])"
   ]
  },
  {
   "cell_type": "code",
   "execution_count": 59,
   "id": "eb148022",
   "metadata": {},
   "outputs": [
    {
     "name": "stdout",
     "output_type": "stream",
     "text": [
      "['John', 'Ogden', '301 Arbor Rd.']\n"
     ]
    }
   ],
   "source": [
    "for customer in dict_of_dict[\"customer1\"].keys():\n",
    "    if customer == \"customer id\":\n",
    "        continue\n",
    "print(list(dict_of_dict[\"customer1\"].values())[1:])"
   ]
  },
  {
   "cell_type": "markdown",
   "id": "d04caed7",
   "metadata": {},
   "source": [
    "### FUNCTIONS"
   ]
  },
  {
   "cell_type": "code",
   "execution_count": null,
   "id": "f2780b6c",
   "metadata": {},
   "outputs": [],
   "source": [
    "name = input(\"Enter The Name of Student: \")\n",
    "phy = int(input(\"Enter The Numbers of Physics: \"))\n",
    "math = int(input(\"Enter The Numbers of Math: \"))\n",
    "chem = int(input(\"Enter The Numbers of Chemistry: \"))\n",
    "eng = int(input(\"Enter The Numbers of English: \"))\n",
    "\n",
    "total_marks = 400\n",
    "obtain_marks = phy+math+chem+eng\n",
    "percentage = (obtain_marks * 100)/ total_marks"
   ]
  },
  {
   "cell_type": "code",
   "execution_count": 10,
   "id": "51ac472b",
   "metadata": {},
   "outputs": [],
   "source": [
    "def calculate_percentage(phy, math, chem, eng):\n",
    "    total_marks = 400\n",
    "    obtain_marks = phy+math+chem+eng\n",
    "    percentage = (obtain_marks * 100)/ total_marks\n",
    "    print(f\"percentage for {name} is {percentage}\")"
   ]
  },
  {
   "cell_type": "code",
   "execution_count": 11,
   "id": "25ea8e85",
   "metadata": {},
   "outputs": [
    {
     "name": "stdout",
     "output_type": "stream",
     "text": [
      "percentage for umair is 68.0\n"
     ]
    }
   ],
   "source": [
    "calculate_percentage(87, 45, 72, 68)"
   ]
  },
  {
   "cell_type": "code",
   "execution_count": 12,
   "id": "cf0154bc",
   "metadata": {},
   "outputs": [
    {
     "name": "stdout",
     "output_type": "stream",
     "text": [
      "Enter The Name of Student: Umair\n",
      "Enter The Numbers of Physics for Umair: 85\n",
      "Enter The Numbers of Math for Umair: 94\n",
      "Enter The Numbers of Chemistry for Umair: 78\n",
      "Enter The Numbers of English for Umair: 84\n",
      "percentage for Umair is 85.25\n"
     ]
    }
   ],
   "source": [
    "name = input(\"Enter The Name of Student: \")\n",
    "phy = int(input(f\"Enter The Numbers of Physics for {name}: \"))\n",
    "math = int(input(f\"Enter The Numbers of Math for {name}: \"))\n",
    "chem = int(input(f\"Enter The Numbers of Chemistry for {name}: \"))\n",
    "eng = int(input(f\"Enter The Numbers of English for {name}: \"))\n",
    "\n",
    "calculate_percentage(phy, math, chem, eng)"
   ]
  },
  {
   "cell_type": "markdown",
   "id": "e51b95b9",
   "metadata": {},
   "source": [
    "###  Task: Calculate The Area Of Sqare"
   ]
  },
  {
   "cell_type": "code",
   "execution_count": 33,
   "id": "ea2ad5c4",
   "metadata": {},
   "outputs": [],
   "source": [
    "def calc_area(lenght):    \n",
    "    area_of_sqare = lenght * lenght\n",
    "    return area_of_sqare"
   ]
  },
  {
   "cell_type": "code",
   "execution_count": 35,
   "id": "1f186f3a",
   "metadata": {},
   "outputs": [
    {
     "name": "stdout",
     "output_type": "stream",
     "text": [
      "Enter The Lenght of Sqare: 8\n",
      "The Area of Sqare is 64sq\n"
     ]
    }
   ],
   "source": [
    "lenght = int(input(\"Enter The Lenght of Sqare: \"))\n",
    "\n",
    "print(f'The Area of Sqare is {calc_area(lenght)}sq')"
   ]
  },
  {
   "cell_type": "code",
   "execution_count": 11,
   "id": "732f0dba",
   "metadata": {},
   "outputs": [
    {
     "name": "stdout",
     "output_type": "stream",
     "text": [
      "Enter The First Name: Umair\n",
      "Enter The Middle Name: Nawaz\n",
      "Enter The Last Name: khan\n",
      "Umair Nawaz khan\n"
     ]
    }
   ],
   "source": [
    "def complete_name(first_name, last_name, mid_name= ''):\n",
    "    first_name = input(\"Enter The First Name: \")\n",
    "    mid_name = input(\"Enter The Middle Name: \")\n",
    "    last_name = input(\"Enter The Last Name: \")\n",
    "    return f\"{first_name} {mid_name} {last_name}\"\n",
    "print(complete_name(first_name, last_name, mid_name=''))"
   ]
  },
  {
   "cell_type": "code",
   "execution_count": null,
   "id": "6408f13e",
   "metadata": {},
   "outputs": [],
   "source": []
  }
 ],
 "metadata": {
  "kernelspec": {
   "display_name": "Python 3 (ipykernel)",
   "language": "python",
   "name": "python3"
  },
  "language_info": {
   "codemirror_mode": {
    "name": "ipython",
    "version": 3
   },
   "file_extension": ".py",
   "mimetype": "text/x-python",
   "name": "python",
   "nbconvert_exporter": "python",
   "pygments_lexer": "ipython3",
   "version": "3.11.5"
  }
 },
 "nbformat": 4,
 "nbformat_minor": 5
}
