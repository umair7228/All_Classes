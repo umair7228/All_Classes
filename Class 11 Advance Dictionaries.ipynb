{
 "cells": [
  {
   "cell_type": "markdown",
   "id": "7912f9f6",
   "metadata": {},
   "source": [
    "###  Update Method"
   ]
  },
  {
   "cell_type": "code",
   "execution_count": 4,
   "id": "aec877f1",
   "metadata": {},
   "outputs": [],
   "source": [
    "car = {\n",
    "    \"brand\": \"Ford\",\n",
    "    \"model\": \"Mustang\",\n",
    "    \"year\": 2008\n",
    "}"
   ]
  },
  {
   "cell_type": "code",
   "execution_count": 5,
   "id": "7f06deb5",
   "metadata": {},
   "outputs": [
    {
     "data": {
      "text/plain": [
       "{'brand': 'Ford', 'model': 'Mustang', 'year': 2008}"
      ]
     },
     "execution_count": 5,
     "metadata": {},
     "output_type": "execute_result"
    }
   ],
   "source": [
    "car"
   ]
  },
  {
   "cell_type": "code",
   "execution_count": 6,
   "id": "04cf39d7",
   "metadata": {},
   "outputs": [],
   "source": [
    "car.update({\"color\": \"Black\"})"
   ]
  },
  {
   "cell_type": "code",
   "execution_count": 7,
   "id": "e113693e",
   "metadata": {},
   "outputs": [
    {
     "data": {
      "text/plain": [
       "{'brand': 'Ford', 'model': 'Mustang', 'year': 2008, 'color': 'Black'}"
      ]
     },
     "execution_count": 7,
     "metadata": {},
     "output_type": "execute_result"
    }
   ],
   "source": [
    "car #Car Dictionary will be updated"
   ]
  },
  {
   "cell_type": "markdown",
   "id": "f61a9af7",
   "metadata": {},
   "source": [
    "##  How to pick information out of a list of dictionaries"
   ]
  },
  {
   "cell_type": "code",
   "execution_count": 8,
   "id": "7ec0b376",
   "metadata": {},
   "outputs": [],
   "source": [
    "customers = [\n",
    "    {\"customer id\": 3,\n",
    "     \"first name\":\"Umair\",\n",
    "     \"last name\": \"Nawaz\",\n",
    "     \"address\": \"301 Arbor Rd.\",\n",
    "    },\n",
    "    {\"customer id\": 2,\n",
    "     \"first name\":\"Nia\",\n",
    "     \"last name\": \"Ali\",\n",
    "     \"address\": \"PO Box 1145\",\n",
    "    },\n",
    "]"
   ]
  },
  {
   "cell_type": "code",
   "execution_count": 9,
   "id": "c1a9baf7",
   "metadata": {},
   "outputs": [
    {
     "data": {
      "text/plain": [
       "[{'customer id': 3,\n",
       "  'first name': 'Umair',\n",
       "  'last name': 'Nawaz',\n",
       "  'address': '301 Arbor Rd.'},\n",
       " {'customer id': 2,\n",
       "  'first name': 'Nia',\n",
       "  'last name': 'Ali',\n",
       "  'address': 'PO Box 1145'}]"
      ]
     },
     "execution_count": 9,
     "metadata": {},
     "output_type": "execute_result"
    }
   ],
   "source": [
    "customers"
   ]
  },
  {
   "cell_type": "code",
   "execution_count": 10,
   "id": "78fa8086",
   "metadata": {},
   "outputs": [
    {
     "data": {
      "text/plain": [
       "'Nawaz'"
      ]
     },
     "execution_count": 10,
     "metadata": {},
     "output_type": "execute_result"
    }
   ],
   "source": [
    "# Slicing in list of dictionaries\n",
    "customers[0][\"last name\"]"
   ]
  },
  {
   "cell_type": "code",
   "execution_count": 11,
   "id": "401a6323",
   "metadata": {},
   "outputs": [
    {
     "data": {
      "text/plain": [
       "{'customer id': 2,\n",
       " 'first name': 'Nia',\n",
       " 'last name': 'Ali',\n",
       " 'address': 'PO Box 1145'}"
      ]
     },
     "execution_count": 11,
     "metadata": {},
     "output_type": "execute_result"
    }
   ],
   "source": [
    "customers[1]"
   ]
  },
  {
   "cell_type": "code",
   "execution_count": 12,
   "id": "64b4415c",
   "metadata": {},
   "outputs": [],
   "source": [
    "# Another way of Slicing\n",
    "customer_index = customers[1]"
   ]
  },
  {
   "cell_type": "code",
   "execution_count": 13,
   "id": "2a389f1a",
   "metadata": {},
   "outputs": [
    {
     "data": {
      "text/plain": [
       "'PO Box 1145'"
      ]
     },
     "execution_count": 13,
     "metadata": {},
     "output_type": "execute_result"
    }
   ],
   "source": [
    "customer_index[\"address\"]"
   ]
  },
  {
   "cell_type": "markdown",
   "id": "16550ac4",
   "metadata": {},
   "source": [
    "###  How to append a new dictionary to a list of dictionaries"
   ]
  },
  {
   "cell_type": "code",
   "execution_count": 14,
   "id": "d768c277",
   "metadata": {},
   "outputs": [],
   "source": [
    "# Appending New Customer value in list of dictionaries\n",
    "customers.append({\"customer id\": 1,\n",
    "                  \"first name\":\"Noman\",\n",
    "                  \"last name\": \"Khan\",\n",
    "                  \"address\": \"3 Main St.\",\n",
    "                 }\n",
    "                )"
   ]
  },
  {
   "cell_type": "code",
   "execution_count": 15,
   "id": "e144d4b6",
   "metadata": {},
   "outputs": [
    {
     "data": {
      "text/plain": [
       "[{'customer id': 3,\n",
       "  'first name': 'Umair',\n",
       "  'last name': 'Nawaz',\n",
       "  'address': '301 Arbor Rd.'},\n",
       " {'customer id': 2,\n",
       "  'first name': 'Nia',\n",
       "  'last name': 'Ali',\n",
       "  'address': 'PO Box 1145'},\n",
       " {'customer id': 1,\n",
       "  'first name': 'Noman',\n",
       "  'last name': 'Khan',\n",
       "  'address': '3 Main St.'}]"
      ]
     },
     "execution_count": 15,
     "metadata": {},
     "output_type": "execute_result"
    }
   ],
   "source": [
    "customers #3rd value of customer will be appended"
   ]
  },
  {
   "cell_type": "code",
   "execution_count": 16,
   "id": "453c0e2f",
   "metadata": {},
   "outputs": [],
   "source": [
    "# Also we can append value in list of dictionary by appending a variable\n",
    "new_customer = {\"customer id\": 5,\n",
    "                \"first name\":\"Ahmad\",\n",
    "                \"last name\": \"Khan\",\n",
    "                \"address\": \"PO Box 1235\",\n",
    "               }"
   ]
  },
  {
   "cell_type": "code",
   "execution_count": 17,
   "id": "1412fe07",
   "metadata": {},
   "outputs": [],
   "source": [
    "customers.append(new_customer)"
   ]
  },
  {
   "cell_type": "code",
   "execution_count": 18,
   "id": "a3c3532d",
   "metadata": {},
   "outputs": [
    {
     "data": {
      "text/plain": [
       "[{'customer id': 3,\n",
       "  'first name': 'Umair',\n",
       "  'last name': 'Nawaz',\n",
       "  'address': '301 Arbor Rd.'},\n",
       " {'customer id': 2,\n",
       "  'first name': 'Nia',\n",
       "  'last name': 'Ali',\n",
       "  'address': 'PO Box 1145'},\n",
       " {'customer id': 1,\n",
       "  'first name': 'Noman',\n",
       "  'last name': 'Khan',\n",
       "  'address': '3 Main St.'},\n",
       " {'customer id': 5,\n",
       "  'first name': 'Ahmad',\n",
       "  'last name': 'Khan',\n",
       "  'address': 'PO Box 1235'}]"
      ]
     },
     "execution_count": 18,
     "metadata": {},
     "output_type": "execute_result"
    }
   ],
   "source": [
    "customers"
   ]
  },
  {
   "cell_type": "markdown",
   "id": "e9fd48cd",
   "metadata": {},
   "source": [
    "###  Creating a dictionary that contains lists"
   ]
  },
  {
   "cell_type": "code",
   "execution_count": 19,
   "id": "6d362f52",
   "metadata": {},
   "outputs": [],
   "source": [
    "customers = [\n",
    "    {\"customer id\": 3,\n",
    "     \"first name\":\"Umair\",\n",
    "     \"last name\": \"Nawaz\",\n",
    "     \"address\": \"301 Arbor Rd.\",\n",
    "     \"discounts\": [\"standard\", \"volume\", \"loyalty\"]\n",
    "    },\n",
    "    {\"customer id\": 2,\n",
    "     \"first name\":\"Nia\",\n",
    "     \"last name\": \"Ali\",\n",
    "     \"address\": \"PO Box 1145\",\n",
    "     \"discounts\": []\n",
    "    },\n",
    "    {\"customer id\": 5,\n",
    "     \"first name\":\"Ahmad\",\n",
    "     \"last name\": \"Khan\",\n",
    "     \"address\": \"PO Box 1235\",\n",
    "     \"discounts\": [\"standard\"]\n",
    "    }\n",
    "]"
   ]
  },
  {
   "cell_type": "code",
   "execution_count": 20,
   "id": "83794c98",
   "metadata": {},
   "outputs": [
    {
     "data": {
      "text/plain": [
       "3"
      ]
     },
     "execution_count": 20,
     "metadata": {},
     "output_type": "execute_result"
    }
   ],
   "source": [
    "len(customers)"
   ]
  },
  {
   "cell_type": "code",
   "execution_count": 21,
   "id": "259a6db0",
   "metadata": {},
   "outputs": [
    {
     "name": "stdout",
     "output_type": "stream",
     "text": [
      "Customer at index 0 has 3 discounts\n",
      "Customer at index 1 has 0 discounts\n",
      "Customer at index 2 has 1 discounts\n"
     ]
    }
   ],
   "source": [
    "for iterator in range(len(customers)):\n",
    "    print(f\"Customer at index {iterator} has {len(customers[iterator]['discounts'])} discounts\")"
   ]
  },
  {
   "cell_type": "code",
   "execution_count": 28,
   "id": "722b8368",
   "metadata": {},
   "outputs": [
    {
     "name": "stdout",
     "output_type": "stream",
     "text": [
      "[5, 10, 15]\n",
      "===\n",
      "[]\n",
      "===\n",
      "[5]\n",
      "===\n"
     ]
    }
   ],
   "source": [
    "for customer in customers:\n",
    "    discounted_percents = []\n",
    "    if len(customer['discounts']) >= 1:\n",
    "        for discount in customer['discounts']:\n",
    "            if discount == 'standard':\n",
    "                discounted_percent = 5\n",
    "            elif discount == 'volume':\n",
    "                discounted_percent = 10\n",
    "            elif discount == 'loyalty':\n",
    "                discounted_percent = 15\n",
    "            else:\n",
    "                print(\"No Discount\")\n",
    "            discounted_percents.append(discounted_percent)\n",
    "    print(discounted_percents)\n",
    "    customer.update({'Discount Percentage': discounted_percents})\n",
    "    print(\"===\")"
   ]
  },
  {
   "cell_type": "code",
   "execution_count": 30,
   "id": "03515d88",
   "metadata": {},
   "outputs": [
    {
     "data": {
      "text/plain": [
       "[{'customer id': 3,\n",
       "  'first name': 'Umair',\n",
       "  'last name': 'Nawaz',\n",
       "  'address': '301 Arbor Rd.',\n",
       "  'discounts': ['standard', 'volume', 'loyalty'],\n",
       "  'Discount Percentage': [5, 10, 15]},\n",
       " {'customer id': 2,\n",
       "  'first name': 'Nia',\n",
       "  'last name': 'Ali',\n",
       "  'address': 'PO Box 1145',\n",
       "  'discounts': [],\n",
       "  'Discount Percentage': []},\n",
       " {'customer id': 5,\n",
       "  'first name': 'Ahmad',\n",
       "  'last name': 'Khan',\n",
       "  'address': 'PO Box 1235',\n",
       "  'discounts': ['standard'],\n",
       "  'Discount Percentage': [5]}]"
      ]
     },
     "execution_count": 30,
     "metadata": {},
     "output_type": "execute_result"
    }
   ],
   "source": [
    "customers #Now Discount Percentage will be added for all customers"
   ]
  }
 ],
 "metadata": {
  "kernelspec": {
   "display_name": "Python 3 (ipykernel)",
   "language": "python",
   "name": "python3"
  },
  "language_info": {
   "codemirror_mode": {
    "name": "ipython",
    "version": 3
   },
   "file_extension": ".py",
   "mimetype": "text/x-python",
   "name": "python",
   "nbconvert_exporter": "python",
   "pygments_lexer": "ipython3",
   "version": "3.11.5"
  }
 },
 "nbformat": 4,
 "nbformat_minor": 5
}
