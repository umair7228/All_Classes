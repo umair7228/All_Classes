{
 "cells": [
  {
   "cell_type": "code",
   "execution_count": 1,
   "id": "9d24a2a6",
   "metadata": {},
   "outputs": [
    {
     "name": "stdout",
     "output_type": "stream",
     "text": [
      "Enter fruit type (Fresh/Not Fresh): Not Fresh\n",
      "Enter fruit Price (High/Low): Low\n",
      "7\n"
     ]
    }
   ],
   "source": [
    "importance = 0\n",
    "fruit_type = input(\"Enter fruit type (Fresh/Not Fresh): \")\n",
    "fruit_price = input(\"Enter fruit Price (High/Low): \")\n",
    "\n",
    "if fruit_type == \"Fresh\":\n",
    "    importance = 10\n",
    "elif fruit_price == \"Low\":\n",
    "    importance = 7\n",
    "else:\n",
    "    print('Goto Next Shop')\n",
    "\n",
    "print(importance)"
   ]
  },
  {
   "cell_type": "code",
   "execution_count": 4,
   "id": "e61a11e1",
   "metadata": {},
   "outputs": [
    {
     "name": "stdout",
     "output_type": "stream",
     "text": [
      "Entre Number: 24\n",
      "True\n"
     ]
    }
   ],
   "source": [
    "num1 = int(input(\"Entre Number: \"))\n",
    "if num1 > 20:\n",
    "    print (True)\n",
    "else:\n",
    "    print (False)"
   ]
  },
  {
   "cell_type": "code",
   "execution_count": 3,
   "id": "9c3cb972",
   "metadata": {},
   "outputs": [
    {
     "data": {
      "text/plain": [
       "True"
      ]
     },
     "execution_count": 3,
     "metadata": {},
     "output_type": "execute_result"
    }
   ],
   "source": [
    "24 > 20"
   ]
  },
  {
   "cell_type": "code",
   "execution_count": 7,
   "id": "21c71aba",
   "metadata": {},
   "outputs": [
    {
     "data": {
      "text/plain": [
       "True"
      ]
     },
     "execution_count": 7,
     "metadata": {},
     "output_type": "execute_result"
    }
   ],
   "source": [
    "(num1 < 25) and (num1 > 20)"
   ]
  },
  {
   "cell_type": "code",
   "execution_count": 8,
   "id": "493c4686",
   "metadata": {},
   "outputs": [
    {
     "data": {
      "text/plain": [
       "True"
      ]
     },
     "execution_count": 8,
     "metadata": {},
     "output_type": "execute_result"
    }
   ],
   "source": [
    "28 != 15"
   ]
  },
  {
   "cell_type": "code",
   "execution_count": 15,
   "id": "57491106",
   "metadata": {},
   "outputs": [
    {
     "name": "stdout",
     "output_type": "stream",
     "text": [
      "Entre Your Country: Canada\n",
      "Entre Your Height: 6\n",
      "Niaz Ali is Agree\n"
     ]
    }
   ],
   "source": [
    "country = input(\"Entre Your Country: \")\n",
    "height = float(input(\"Entre Your Height: \"))\n",
    "\n",
    "if (not country == \"Pakistan\") and (height > 5):\n",
    "    print (\"Niaz Ali is Agree\")\n",
    "else:\n",
    "    print (\"Conditions Not Matched\")"
   ]
  },
  {
   "cell_type": "code",
   "execution_count": 3,
   "id": "16e0c359",
   "metadata": {},
   "outputs": [
    {
     "name": "stdout",
     "output_type": "stream",
     "text": [
      "Entre First Number: 5\n",
      "Entre Second Number: 5\n",
      "Check Next Number\n",
      "Entre Third Number: 6\n",
      "Entre Furth Number: 3\n",
      "Yes, All Conditions Meet\n"
     ]
    }
   ],
   "source": [
    "num1 = int(input(\"Entre First Number: \"))\n",
    "num2 = int(input(\"Entre Second Number: \"))\n",
    "\n",
    "if num1 == num2:\n",
    "    print(\"Check Next Number\")\n",
    "else:\n",
    "    print(\"Num1 is not equal to num2\")\n",
    "num3 = int(input(\"Entre Third Number: \"))\n",
    "num4 = int(input(\"Entre Furth Number: \"))\n",
    "    \n",
    "if num3 > num4:\n",
    "    print(\"Yes, All Conditions Meet\")\n",
    "else:\n",
    "    print(\"Conditions Not Meet\")"
   ]
  },
  {
   "cell_type": "markdown",
   "id": "673b2da5",
   "metadata": {},
   "source": [
    "#  List"
   ]
  },
  {
   "cell_type": "code",
   "execution_count": 6,
   "id": "45fea9c7",
   "metadata": {},
   "outputs": [],
   "source": [
    "countries_list = [\"America\", \"Canada\", \"Australia\", \"New Zealand\"]"
   ]
  },
  {
   "cell_type": "code",
   "execution_count": 9,
   "id": "db320a42",
   "metadata": {},
   "outputs": [
    {
     "name": "stdout",
     "output_type": "stream",
     "text": [
      "['America', 'Canada', 'Australia', 'New Zealand']\n"
     ]
    }
   ],
   "source": [
    "print(countries_list)"
   ]
  },
  {
   "cell_type": "code",
   "execution_count": 11,
   "id": "6814c458",
   "metadata": {},
   "outputs": [
    {
     "data": {
      "text/plain": [
       "list"
      ]
     },
     "execution_count": 11,
     "metadata": {},
     "output_type": "execute_result"
    }
   ],
   "source": [
    "type(countries_list)\n"
   ]
  },
  {
   "cell_type": "code",
   "execution_count": 12,
   "id": "d8f174ed",
   "metadata": {},
   "outputs": [
    {
     "data": {
      "text/plain": [
       "2370606611008"
      ]
     },
     "execution_count": 12,
     "metadata": {},
     "output_type": "execute_result"
    }
   ],
   "source": [
    "id(countries_list)"
   ]
  },
  {
   "cell_type": "code",
   "execution_count": 13,
   "id": "754214a2",
   "metadata": {},
   "outputs": [
    {
     "name": "stdout",
     "output_type": "stream",
     "text": [
      "Welcome To Australia\n"
     ]
    }
   ],
   "source": [
    "print(f\"Welcome To {countries_list[2]}\")"
   ]
  },
  {
   "cell_type": "code",
   "execution_count": 14,
   "id": "905772de",
   "metadata": {},
   "outputs": [
    {
     "data": {
      "text/plain": [
       "['Canada', 'Australia']"
      ]
     },
     "execution_count": 14,
     "metadata": {},
     "output_type": "execute_result"
    }
   ],
   "source": [
    "countries_list [1:3]"
   ]
  }
 ],
 "metadata": {
  "kernelspec": {
   "display_name": "Python 3 (ipykernel)",
   "language": "python",
   "name": "python3"
  },
  "language_info": {
   "codemirror_mode": {
    "name": "ipython",
    "version": 3
   },
   "file_extension": ".py",
   "mimetype": "text/x-python",
   "name": "python",
   "nbconvert_exporter": "python",
   "pygments_lexer": "ipython3",
   "version": "3.11.5"
  },
  "widgets": {
   "application/vnd.jupyter.widget-state+json": {
    "state": {},
    "version_major": 2,
    "version_minor": 0
   }
  }
 },
 "nbformat": 4,
 "nbformat_minor": 5
}
