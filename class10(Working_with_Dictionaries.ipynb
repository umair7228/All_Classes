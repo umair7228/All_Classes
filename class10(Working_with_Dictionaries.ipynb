{
 "cells": [
  {
   "cell_type": "code",
   "execution_count": 1,
   "id": "b901ffdc",
   "metadata": {},
   "outputs": [
    {
     "data": {
      "text/plain": [
       "['First Name', 'Last Name', 'Contect', 'Age', 'Weight']"
      ]
     },
     "execution_count": 1,
     "metadata": {},
     "output_type": "execute_result"
    }
   ],
   "source": [
    "['First Name', 'Last Name', 'Contect', 'Age', 'Weight']"
   ]
  },
  {
   "cell_type": "code",
   "execution_count": 2,
   "id": "a7757694",
   "metadata": {},
   "outputs": [],
   "source": [
    "customer1 = ['Umair', 'Nawaz', 9232015541, 16, 62]"
   ]
  },
  {
   "cell_type": "code",
   "execution_count": 3,
   "id": "fa4c2fb2",
   "metadata": {},
   "outputs": [],
   "source": [
    "customer1_dict = {'First Name': 'Umair',          #Key --> Value\n",
    "                  'Last Name': 'Nawaz',\n",
    "                  'Contect': 9232087541,\n",
    "                  'Age': 16,\n",
    "                  'Weight': 62\n",
    "                 }"
   ]
  },
  {
   "cell_type": "code",
   "execution_count": 4,
   "id": "8fe23560",
   "metadata": {},
   "outputs": [
    {
     "data": {
      "text/plain": [
       "{'First Name': 'Umair',\n",
       " 'Last Name': 'Nawaz',\n",
       " 'Contect': 9232087541,\n",
       " 'Age': 16,\n",
       " 'Weight': 62}"
      ]
     },
     "execution_count": 4,
     "metadata": {},
     "output_type": "execute_result"
    }
   ],
   "source": [
    "customer1_dict"
   ]
  },
  {
   "cell_type": "code",
   "execution_count": 5,
   "id": "a70b4bbb",
   "metadata": {},
   "outputs": [
    {
     "data": {
      "text/plain": [
       "dict"
      ]
     },
     "execution_count": 5,
     "metadata": {},
     "output_type": "execute_result"
    }
   ],
   "source": [
    "type(customer1_dict)"
   ]
  },
  {
   "cell_type": "code",
   "execution_count": 6,
   "id": "43ece920",
   "metadata": {},
   "outputs": [],
   "source": [
    "# The Contect number is wrong, we will right it"
   ]
  },
  {
   "cell_type": "code",
   "execution_count": 7,
   "id": "82f6f9b9",
   "metadata": {},
   "outputs": [],
   "source": [
    "customer1_dict['Contect'] = 9232015541"
   ]
  },
  {
   "cell_type": "code",
   "execution_count": 8,
   "id": "ccc2d0f8",
   "metadata": {},
   "outputs": [
    {
     "data": {
      "text/plain": [
       "{'First Name': 'Umair',\n",
       " 'Last Name': 'Nawaz',\n",
       " 'Contect': 9232015541,\n",
       " 'Age': 16,\n",
       " 'Weight': 62}"
      ]
     },
     "execution_count": 8,
     "metadata": {},
     "output_type": "execute_result"
    }
   ],
   "source": [
    "customer1_dict # Now Contect Number will be changed"
   ]
  },
  {
   "cell_type": "code",
   "execution_count": 9,
   "id": "378e8744",
   "metadata": {},
   "outputs": [],
   "source": [
    "# Deleting the Contect number from dict\n",
    "\n",
    "del(customer1_dict['Contect'])"
   ]
  },
  {
   "cell_type": "code",
   "execution_count": 10,
   "id": "f7721b8e",
   "metadata": {},
   "outputs": [
    {
     "data": {
      "text/plain": [
       "{'First Name': 'Umair', 'Last Name': 'Nawaz', 'Age': 16, 'Weight': 62}"
      ]
     },
     "execution_count": 10,
     "metadata": {},
     "output_type": "execute_result"
    }
   ],
   "source": [
    "customer1_dict # Contect Number Has Deleted"
   ]
  },
  {
   "cell_type": "code",
   "execution_count": 11,
   "id": "98e71013",
   "metadata": {},
   "outputs": [],
   "source": [
    "customer1_dict['Contect'] = 9232015541"
   ]
  },
  {
   "cell_type": "code",
   "execution_count": 12,
   "id": "2ba7a797",
   "metadata": {},
   "outputs": [
    {
     "data": {
      "text/plain": [
       "{'First Name': 'Umair',\n",
       " 'Last Name': 'Nawaz',\n",
       " 'Age': 16,\n",
       " 'Weight': 62,\n",
       " 'Contect': 9232015541}"
      ]
     },
     "execution_count": 12,
     "metadata": {},
     "output_type": "execute_result"
    }
   ],
   "source": [
    "customer1_dict"
   ]
  },
  {
   "cell_type": "code",
   "execution_count": 13,
   "id": "e9f10371",
   "metadata": {},
   "outputs": [],
   "source": [
    "# Copy Method\n",
    "\n",
    "new_dict = customer1_dict.copy()"
   ]
  },
  {
   "cell_type": "code",
   "execution_count": 14,
   "id": "767ffef2",
   "metadata": {},
   "outputs": [
    {
     "data": {
      "text/plain": [
       "{'First Name': 'Umair',\n",
       " 'Last Name': 'Nawaz',\n",
       " 'Age': 16,\n",
       " 'Weight': 62,\n",
       " 'Contect': 9232015541}"
      ]
     },
     "execution_count": 14,
     "metadata": {},
     "output_type": "execute_result"
    }
   ],
   "source": [
    "new_dict"
   ]
  },
  {
   "cell_type": "code",
   "execution_count": 15,
   "id": "e23f3d78",
   "metadata": {},
   "outputs": [
    {
     "data": {
      "text/plain": [
       "dict_items([('First Name', 'Umair'), ('Last Name', 'Nawaz'), ('Age', 16), ('Weight', 62), ('Contect', 9232015541)])"
      ]
     },
     "execution_count": 15,
     "metadata": {},
     "output_type": "execute_result"
    }
   ],
   "source": [
    "#item_Method\n",
    "\n",
    "customer1_dict.items()  # Convert dict to List of Tuple"
   ]
  },
  {
   "cell_type": "code",
   "execution_count": 16,
   "id": "52214cfb",
   "metadata": {},
   "outputs": [],
   "source": [
    "customer1_dict['Contect'] = 9232015541"
   ]
  },
  {
   "cell_type": "code",
   "execution_count": 17,
   "id": "a94c9dc9",
   "metadata": {},
   "outputs": [
    {
     "data": {
      "text/plain": [
       "{'First Name': 'Umair',\n",
       " 'Last Name': 'Nawaz',\n",
       " 'Age': 16,\n",
       " 'Weight': 62,\n",
       " 'Contect': 9232015541}"
      ]
     },
     "execution_count": 17,
     "metadata": {},
     "output_type": "execute_result"
    }
   ],
   "source": [
    "customer1_dict"
   ]
  },
  {
   "cell_type": "code",
   "execution_count": 18,
   "id": "27278fbf",
   "metadata": {},
   "outputs": [
    {
     "name": "stdout",
     "output_type": "stream",
     "text": [
      "First Name : Umair\n",
      "Last Name : Nawaz\n",
      "Age : 16\n",
      "Weight : 62\n",
      "Contect : 9232015541\n"
     ]
    }
   ],
   "source": [
    "for key, value in customer1_dict.items():\n",
    "    print(f'{key} : {value}')"
   ]
  },
  {
   "cell_type": "code",
   "execution_count": 19,
   "id": "33173bf5",
   "metadata": {},
   "outputs": [],
   "source": [
    "# fromkey Method\n",
    "alphabets = {'a', 'b', 'c'}\n",
    "\n",
    "number = 5"
   ]
  },
  {
   "cell_type": "code",
   "execution_count": 20,
   "id": "a32cc8fc",
   "metadata": {},
   "outputs": [],
   "source": [
    "alphabets_dict = dict.fromkeys(alphabets, number)"
   ]
  },
  {
   "cell_type": "code",
   "execution_count": 21,
   "id": "93ca401b",
   "metadata": {},
   "outputs": [
    {
     "data": {
      "text/plain": [
       "{'a': 5, 'b': 5, 'c': 5}"
      ]
     },
     "execution_count": 21,
     "metadata": {},
     "output_type": "execute_result"
    }
   ],
   "source": [
    "alphabets_dict"
   ]
  },
  {
   "cell_type": "code",
   "execution_count": 22,
   "id": "7ad606ec",
   "metadata": {},
   "outputs": [
    {
     "name": "stdout",
     "output_type": "stream",
     "text": [
      "Cherry\n",
      "Banana\n"
     ]
    }
   ],
   "source": [
    "# get Method\n",
    "alphabets_dict = {'A': 'Apple', 'B': 'Banana', 'C': 'Cherry'}\n",
    "\n",
    "value_for_C = alphabets_dict.get('C')\n",
    "print(value_for_C)\n",
    "\n",
    "value_for_B = alphabets_dict.get('B')\n",
    "print(value_for_B)"
   ]
  },
  {
   "cell_type": "code",
   "execution_count": 28,
   "id": "6c60d721",
   "metadata": {},
   "outputs": [],
   "source": [
    "customer1_dict = {1: 'Umair',\n",
    "                2: 'Nawaz',\n",
    "                3: 16,\n",
    "                4: 62,\n",
    "                5: 9232015541}"
   ]
  },
  {
   "cell_type": "code",
   "execution_count": 29,
   "id": "7b5f2a6d",
   "metadata": {},
   "outputs": [
    {
     "data": {
      "text/plain": [
       "{1: 'Umair', 2: 'Nawaz', 3: 16, 4: 62, 5: 9232015541}"
      ]
     },
     "execution_count": 29,
     "metadata": {},
     "output_type": "execute_result"
    }
   ],
   "source": [
    "customer1_dict"
   ]
  },
  {
   "cell_type": "code",
   "execution_count": 32,
   "id": "4dd40862",
   "metadata": {},
   "outputs": [],
   "source": [
    "# Adding Items\n",
    "customer1_dict[6] = 'Karachi'"
   ]
  },
  {
   "cell_type": "code",
   "execution_count": 33,
   "id": "44959841",
   "metadata": {},
   "outputs": [
    {
     "data": {
      "text/plain": [
       "{1: 'Umair', 2: 'Nawaz', 3: 16, 4: 62, 5: 9232015541, 6: 'Karachi'}"
      ]
     },
     "execution_count": 33,
     "metadata": {},
     "output_type": "execute_result"
    }
   ],
   "source": [
    "customer1_dict"
   ]
  },
  {
   "cell_type": "code",
   "execution_count": 35,
   "id": "6c01df98",
   "metadata": {},
   "outputs": [],
   "source": [
    "self_dict = {'Name': 'Umair', 'Father Name': 'M.Nawaz', 'Contect': 987456321, 'Course': 'Python Programming'}"
   ]
  },
  {
   "cell_type": "code",
   "execution_count": 36,
   "id": "9c207e57",
   "metadata": {},
   "outputs": [],
   "source": [
    "#Adding Values in Dict\n",
    "self_dict['Campus'] = 'Main'"
   ]
  },
  {
   "cell_type": "code",
   "execution_count": 37,
   "id": "fbb4acea",
   "metadata": {},
   "outputs": [
    {
     "data": {
      "text/plain": [
       "{'Name': 'Umair',\n",
       " 'Father Name': 'M.Nawaz',\n",
       " 'Contect': 987456321,\n",
       " 'Course': 'Python Programming',\n",
       " 'Campus': 'Main'}"
      ]
     },
     "execution_count": 37,
     "metadata": {},
     "output_type": "execute_result"
    }
   ],
   "source": [
    "self_dict"
   ]
  },
  {
   "cell_type": "code",
   "execution_count": 38,
   "id": "0028b3b4",
   "metadata": {},
   "outputs": [],
   "source": [
    "#updating values\n",
    "self_dict['Contect'] = 123654789"
   ]
  },
  {
   "cell_type": "code",
   "execution_count": 39,
   "id": "9ef3af27",
   "metadata": {},
   "outputs": [
    {
     "data": {
      "text/plain": [
       "{'Name': 'Umair',\n",
       " 'Father Name': 'M.Nawaz',\n",
       " 'Contect': 123654789,\n",
       " 'Course': 'Python Programming',\n",
       " 'Campus': 'Main'}"
      ]
     },
     "execution_count": 39,
     "metadata": {},
     "output_type": "execute_result"
    }
   ],
   "source": [
    "self_dict"
   ]
  },
  {
   "cell_type": "code",
   "execution_count": 41,
   "id": "7f1a4ce6",
   "metadata": {},
   "outputs": [],
   "source": [
    "# Deleting Values\n",
    "del(self_dict['Contect'])"
   ]
  },
  {
   "cell_type": "code",
   "execution_count": 42,
   "id": "9a1ac5bd",
   "metadata": {},
   "outputs": [
    {
     "data": {
      "text/plain": [
       "{'Name': 'Umair',\n",
       " 'Father Name': 'M.Nawaz',\n",
       " 'Course': 'Python Programming',\n",
       " 'Campus': 'Main'}"
      ]
     },
     "execution_count": 42,
     "metadata": {},
     "output_type": "execute_result"
    }
   ],
   "source": [
    "self_dict"
   ]
  },
  {
   "cell_type": "code",
   "execution_count": 44,
   "id": "4b85cfe4",
   "metadata": {},
   "outputs": [],
   "source": [
    "# Get Method\n",
    "value_for_name = self_dict.get('Name')"
   ]
  },
  {
   "cell_type": "code",
   "execution_count": 45,
   "id": "382ce235",
   "metadata": {},
   "outputs": [
    {
     "data": {
      "text/plain": [
       "'Umair'"
      ]
     },
     "execution_count": 45,
     "metadata": {},
     "output_type": "execute_result"
    }
   ],
   "source": [
    "value_for_name"
   ]
  },
  {
   "cell_type": "code",
   "execution_count": 46,
   "id": "2624d672",
   "metadata": {},
   "outputs": [
    {
     "data": {
      "text/plain": [
       "dict_items([('Name', 'Umair'), ('Father Name', 'M.Nawaz'), ('Course', 'Python Programming'), ('Campus', 'Main')])"
      ]
     },
     "execution_count": 46,
     "metadata": {},
     "output_type": "execute_result"
    }
   ],
   "source": [
    "# Item Method\n",
    "self_dict.items()"
   ]
  },
  {
   "cell_type": "code",
   "execution_count": 61,
   "id": "63ba0539",
   "metadata": {},
   "outputs": [
    {
     "name": "stdout",
     "output_type": "stream",
     "text": [
      "Name : Umair\n",
      "Father Name : M.Nawaz\n",
      "Course : Python Programming\n",
      "Campus : Main\n"
     ]
    }
   ],
   "source": [
    "for key,value in self_dict.items():\n",
    "    print(f'{key} : {value}')"
   ]
  },
  {
   "cell_type": "code",
   "execution_count": 58,
   "id": "1e4f83cc",
   "metadata": {},
   "outputs": [
    {
     "data": {
      "text/plain": [
       "dict_keys(['Name', 'Father Name', 'Course', 'Campus'])"
      ]
     },
     "execution_count": 58,
     "metadata": {},
     "output_type": "execute_result"
    }
   ],
   "source": [
    "# Keys Method\n",
    "self_dict.keys()"
   ]
  },
  {
   "cell_type": "code",
   "execution_count": 53,
   "id": "0f0884cb",
   "metadata": {},
   "outputs": [
    {
     "data": {
      "text/plain": [
       "dict_values(['Umair', 'M.Nawaz', 'Python Programming', 'Main'])"
      ]
     },
     "execution_count": 53,
     "metadata": {},
     "output_type": "execute_result"
    }
   ],
   "source": [
    "# Values Method\n",
    "self_dict.values()"
   ]
  },
  {
   "cell_type": "code",
   "execution_count": 60,
   "id": "262b6f52",
   "metadata": {},
   "outputs": [
    {
     "name": "stdout",
     "output_type": "stream",
     "text": [
      "{'a': 3, 'b': 3, 'c': 3}\n"
     ]
    }
   ],
   "source": [
    "#fromkey Method\n",
    "alphabets = {'a', 'b', 'c'}\n",
    "number = 3\n",
    "\n",
    "alphabets_dict = dict.fromkeys(alphabets, number)\n",
    "print(alphabets_dict)"
   ]
  }
 ],
 "metadata": {
  "kernelspec": {
   "display_name": "Python 3 (ipykernel)",
   "language": "python",
   "name": "python3"
  },
  "language_info": {
   "codemirror_mode": {
    "name": "ipython",
    "version": 3
   },
   "file_extension": ".py",
   "mimetype": "text/x-python",
   "name": "python",
   "nbconvert_exporter": "python",
   "pygments_lexer": "ipython3",
   "version": "3.11.5"
  }
 },
 "nbformat": 4,
 "nbformat_minor": 5
}
