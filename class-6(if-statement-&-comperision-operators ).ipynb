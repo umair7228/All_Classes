{
 "cells": [
  {
   "cell_type": "markdown",
   "id": "f68a7071",
   "metadata": {},
   "source": [
    "#  if statement"
   ]
  },
  {
   "cell_type": "code",
   "execution_count": 5,
   "id": "6bed923f",
   "metadata": {},
   "outputs": [],
   "source": [
    "holiday = False"
   ]
  },
  {
   "cell_type": "code",
   "execution_count": 6,
   "id": "5f4c2119",
   "metadata": {},
   "outputs": [],
   "source": [
    "if holiday:\n",
    "    print (\"Today is OFF - Independence day\")"
   ]
  },
  {
   "cell_type": "code",
   "execution_count": 7,
   "id": "311d4a7a",
   "metadata": {},
   "outputs": [
    {
     "data": {
      "text/plain": [
       "False"
      ]
     },
     "execution_count": 7,
     "metadata": {},
     "output_type": "execute_result"
    }
   ],
   "source": [
    "holiday"
   ]
  },
  {
   "cell_type": "code",
   "execution_count": 12,
   "id": "2665dea9",
   "metadata": {},
   "outputs": [],
   "source": [
    "holiday = False"
   ]
  },
  {
   "cell_type": "code",
   "execution_count": 13,
   "id": "70b58b56",
   "metadata": {},
   "outputs": [],
   "source": [
    "if holiday:\n",
    "    print (\"Today is OFF\")"
   ]
  },
  {
   "cell_type": "code",
   "execution_count": 14,
   "id": "22bb54e8",
   "metadata": {},
   "outputs": [
    {
     "name": "stdout",
     "output_type": "stream",
     "text": [
      "Attend the session\n"
     ]
    }
   ],
   "source": [
    "if holiday:\n",
    "    print (\"Today is OFF - Happy Independence Day\")\n",
    "else:\n",
    "    print (\"Attend the session\")"
   ]
  },
  {
   "cell_type": "markdown",
   "id": "963cb36e",
   "metadata": {},
   "source": [
    "#  Ex # 2"
   ]
  },
  {
   "cell_type": "code",
   "execution_count": 37,
   "id": "83df4dc1",
   "metadata": {},
   "outputs": [],
   "source": [
    "species = \"hourse\""
   ]
  },
  {
   "cell_type": "code",
   "execution_count": 38,
   "id": "319d4798",
   "metadata": {},
   "outputs": [
    {
     "name": "stdout",
     "output_type": "stream",
     "text": [
      "Yep, it's hourse.\n"
     ]
    }
   ],
   "source": [
    "if species == \"hourse\":\n",
    "    status = \"ok\"\n",
    "    kingdom = \"animal\"\n",
    "    print (\"Yep, it's hourse.\")\n",
    "else:\n",
    "    print (\"NO\")"
   ]
  },
  {
   "cell_type": "code",
   "execution_count": 44,
   "id": "eac4c318",
   "metadata": {},
   "outputs": [],
   "source": [
    "car = \"Bugatti\"\n",
    "color = \"Blue\""
   ]
  },
  {
   "cell_type": "code",
   "execution_count": 45,
   "id": "e3cf5252",
   "metadata": {},
   "outputs": [
    {
     "name": "stdout",
     "output_type": "stream",
     "text": [
      "Umair is Happy for car\n",
      "Umair is not happy for color\n"
     ]
    }
   ],
   "source": [
    "if car != \"Benthly\":\n",
    "    print (\"Umair is Happy for car\")\n",
    "    if color != \"Black\":\n",
    "        print (\"Umair is not happy for color\")\n",
    "    else:\n",
    "        print (\"Umair is Happy for color\")\n",
    "else:\n",
    "    print (\"Umair is not agree\")"
   ]
  },
  {
   "cell_type": "code",
   "execution_count": 51,
   "id": "c807e293",
   "metadata": {},
   "outputs": [
    {
     "name": "stdout",
     "output_type": "stream",
     "text": [
      "Entre the Name of CarBugatti\n",
      "Entre the Name of ColorBlack\n",
      "Umair is Happy for car\n",
      "Umair is Happy for color\n"
     ]
    }
   ],
   "source": [
    "car = input(\"Entre the Name of Car\")\n",
    "color = input(\"Entre the Name of Color\")\n",
    "\n",
    "\n",
    "if car != \"Benthly\":\n",
    "    print (\"Umair is Happy for car\")\n",
    "    if color != \"Black\":\n",
    "        print (\"Umair is not happy for color\")\n",
    "    else:\n",
    "        print (\"Umair is Happy for color\")\n",
    "else:\n",
    "    print (\"Umair is not agree\")"
   ]
  },
  {
   "cell_type": "code",
   "execution_count": 54,
   "id": "b6ba1808",
   "metadata": {},
   "outputs": [
    {
     "name": "stdout",
     "output_type": "stream",
     "text": [
      "Everything makes sence\n"
     ]
    }
   ],
   "source": [
    "if 4 - 1 == 3:\n",
    "    print (\"Everything makes sence\")"
   ]
  },
  {
   "cell_type": "markdown",
   "id": "a90ffa57",
   "metadata": {},
   "source": [
    "#  Comperision Operators "
   ]
  },
  {
   "cell_type": "code",
   "execution_count": 59,
   "id": "f47bf75a",
   "metadata": {},
   "outputs": [
    {
     "data": {
      "text/plain": [
       "True"
      ]
     },
     "execution_count": 59,
     "metadata": {},
     "output_type": "execute_result"
    }
   ],
   "source": [
    "1 + 3 ==2 + 2"
   ]
  },
  {
   "cell_type": "code",
   "execution_count": 60,
   "id": "c054a424",
   "metadata": {},
   "outputs": [
    {
     "data": {
      "text/plain": [
       "True"
      ]
     },
     "execution_count": 60,
     "metadata": {},
     "output_type": "execute_result"
    }
   ],
   "source": [
    "\"fish\" == \"fish\""
   ]
  },
  {
   "cell_type": "code",
   "execution_count": 61,
   "id": "de4f52bb",
   "metadata": {},
   "outputs": [
    {
     "data": {
      "text/plain": [
       "False"
      ]
     },
     "execution_count": 61,
     "metadata": {},
     "output_type": "execute_result"
    }
   ],
   "source": [
    "\"fish\" == \"monkey\""
   ]
  },
  {
   "cell_type": "code",
   "execution_count": 62,
   "id": "96143b7e",
   "metadata": {},
   "outputs": [],
   "source": [
    "buy_score = 0\n",
    "fruit_condition = \"not fresh\"\n",
    "fruit_price = \"low\""
   ]
  },
  {
   "cell_type": "code",
   "execution_count": 63,
   "id": "cbd33519",
   "metadata": {},
   "outputs": [],
   "source": [
    "if fruit_condition == \"fresh\":\n",
    "    buy_score += 5\n",
    "elif fruit_price == \"low\":\n",
    "    buy_score +=5\n",
    "else:\n",
    "    buy_score = 0"
   ]
  },
  {
   "cell_type": "code",
   "execution_count": 64,
   "id": "b4502c29",
   "metadata": {},
   "outputs": [
    {
     "data": {
      "text/plain": [
       "5"
      ]
     },
     "execution_count": 64,
     "metadata": {},
     "output_type": "execute_result"
    }
   ],
   "source": [
    "buy_score"
   ]
  }
 ],
 "metadata": {
  "kernelspec": {
   "display_name": "Python 3 (ipykernel)",
   "language": "python",
   "name": "python3"
  },
  "language_info": {
   "codemirror_mode": {
    "name": "ipython",
    "version": 3
   },
   "file_extension": ".py",
   "mimetype": "text/x-python",
   "name": "python",
   "nbconvert_exporter": "python",
   "pygments_lexer": "ipython3",
   "version": "3.11.5"
  }
 },
 "nbformat": 4,
 "nbformat_minor": 5
}
