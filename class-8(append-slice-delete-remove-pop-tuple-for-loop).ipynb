{
 "cells": [
  {
   "cell_type": "code",
   "execution_count": 1,
   "id": "67503952",
   "metadata": {},
   "outputs": [],
   "source": [
    "countries = [\"Pakistan\", \"China\", \"Afghanistan\", \"India\"]"
   ]
  },
  {
   "cell_type": "code",
   "execution_count": 2,
   "id": "0037076a",
   "metadata": {},
   "outputs": [
    {
     "data": {
      "text/plain": [
       "['Pakistan', 'China', 'Afghanistan', 'India']"
      ]
     },
     "execution_count": 2,
     "metadata": {},
     "output_type": "execute_result"
    }
   ],
   "source": [
    "countries"
   ]
  },
  {
   "cell_type": "markdown",
   "id": "1df6aaf0",
   "metadata": {},
   "source": [
    "#  Appending values in List"
   ]
  },
  {
   "cell_type": "code",
   "execution_count": 3,
   "id": "14b6ee68",
   "metadata": {},
   "outputs": [],
   "source": [
    "countries = countries + [\"Iran\", \"Turkey\"]"
   ]
  },
  {
   "cell_type": "code",
   "execution_count": 4,
   "id": "e9fd6dfb",
   "metadata": {},
   "outputs": [
    {
     "data": {
      "text/plain": [
       "['Pakistan', 'China', 'Afghanistan', 'India', 'Iran', 'Turkey']"
      ]
     },
     "execution_count": 4,
     "metadata": {},
     "output_type": "execute_result"
    }
   ],
   "source": [
    "countries"
   ]
  },
  {
   "cell_type": "code",
   "execution_count": 5,
   "id": "59afd65b",
   "metadata": {},
   "outputs": [],
   "source": [
    "countries.append(\"New York\")"
   ]
  },
  {
   "cell_type": "code",
   "execution_count": 6,
   "id": "a718cc6b",
   "metadata": {},
   "outputs": [
    {
     "data": {
      "text/plain": [
       "['Pakistan', 'China', 'Afghanistan', 'India', 'Iran', 'Turkey', 'New York']"
      ]
     },
     "execution_count": 6,
     "metadata": {},
     "output_type": "execute_result"
    }
   ],
   "source": [
    "countries"
   ]
  },
  {
   "cell_type": "code",
   "execution_count": 7,
   "id": "9ddba4e4",
   "metadata": {},
   "outputs": [],
   "source": [
    "countries.insert(2, \"Canada\")"
   ]
  },
  {
   "cell_type": "code",
   "execution_count": 8,
   "id": "64dd676d",
   "metadata": {},
   "outputs": [
    {
     "data": {
      "text/plain": [
       "['Pakistan',\n",
       " 'China',\n",
       " 'Canada',\n",
       " 'Afghanistan',\n",
       " 'India',\n",
       " 'Iran',\n",
       " 'Turkey',\n",
       " 'New York']"
      ]
     },
     "execution_count": 8,
     "metadata": {},
     "output_type": "execute_result"
    }
   ],
   "source": [
    "countries"
   ]
  },
  {
   "cell_type": "code",
   "execution_count": 9,
   "id": "45fa6161",
   "metadata": {},
   "outputs": [],
   "source": [
    "countries.insert(3, \"Pakistan\")"
   ]
  },
  {
   "cell_type": "code",
   "execution_count": 10,
   "id": "19831c2d",
   "metadata": {},
   "outputs": [
    {
     "data": {
      "text/plain": [
       "['Pakistan',\n",
       " 'China',\n",
       " 'Canada',\n",
       " 'Pakistan',\n",
       " 'Afghanistan',\n",
       " 'India',\n",
       " 'Iran',\n",
       " 'Turkey',\n",
       " 'New York']"
      ]
     },
     "execution_count": 10,
     "metadata": {},
     "output_type": "execute_result"
    }
   ],
   "source": [
    "countries"
   ]
  },
  {
   "cell_type": "markdown",
   "id": "0fb7ca33",
   "metadata": {},
   "source": [
    "#  Slicing"
   ]
  },
  {
   "cell_type": "code",
   "execution_count": 11,
   "id": "f72f2b3f",
   "metadata": {},
   "outputs": [
    {
     "data": {
      "text/plain": [
       "['Pakistan',\n",
       " 'China',\n",
       " 'Canada',\n",
       " 'Pakistan',\n",
       " 'Afghanistan',\n",
       " 'India',\n",
       " 'Iran',\n",
       " 'Turkey',\n",
       " 'New York']"
      ]
     },
     "execution_count": 11,
     "metadata": {},
     "output_type": "execute_result"
    }
   ],
   "source": [
    "countries"
   ]
  },
  {
   "cell_type": "code",
   "execution_count": 12,
   "id": "d483a144",
   "metadata": {},
   "outputs": [],
   "source": [
    "smaller_list_of_countries = countries[1:8]"
   ]
  },
  {
   "cell_type": "code",
   "execution_count": 13,
   "id": "54303783",
   "metadata": {},
   "outputs": [
    {
     "data": {
      "text/plain": [
       "['China', 'Canada', 'Pakistan', 'Afghanistan', 'India', 'Iran', 'Turkey']"
      ]
     },
     "execution_count": 13,
     "metadata": {},
     "output_type": "execute_result"
    }
   ],
   "source": [
    "smaller_list_of_countries"
   ]
  },
  {
   "cell_type": "markdown",
   "id": "4e09cc26",
   "metadata": {},
   "source": [
    "#  Deleting and Removing Elements"
   ]
  },
  {
   "cell_type": "code",
   "execution_count": 14,
   "id": "5e242633",
   "metadata": {},
   "outputs": [],
   "source": [
    "tasks = [\"email Frank\", \"call Sarah\", \"meet with Zach\"]\n"
   ]
  },
  {
   "cell_type": "code",
   "execution_count": 15,
   "id": "4e388d84",
   "metadata": {},
   "outputs": [
    {
     "data": {
      "text/plain": [
       "'email Frank'"
      ]
     },
     "execution_count": 15,
     "metadata": {},
     "output_type": "execute_result"
    }
   ],
   "source": [
    "tasks[0]"
   ]
  },
  {
   "cell_type": "code",
   "execution_count": 16,
   "id": "e0165e68",
   "metadata": {},
   "outputs": [
    {
     "data": {
      "text/plain": [
       "'call Sarah'"
      ]
     },
     "execution_count": 16,
     "metadata": {},
     "output_type": "execute_result"
    }
   ],
   "source": [
    "tasks[1]"
   ]
  },
  {
   "cell_type": "code",
   "execution_count": 17,
   "id": "a73fa946",
   "metadata": {},
   "outputs": [
    {
     "data": {
      "text/plain": [
       "'meet with Zach'"
      ]
     },
     "execution_count": 17,
     "metadata": {},
     "output_type": "execute_result"
    }
   ],
   "source": [
    "tasks[2]"
   ]
  },
  {
   "cell_type": "code",
   "execution_count": 18,
   "id": "991c68d5",
   "metadata": {},
   "outputs": [],
   "source": [
    "del tasks[1]"
   ]
  },
  {
   "cell_type": "code",
   "execution_count": 19,
   "id": "c489debf",
   "metadata": {},
   "outputs": [
    {
     "data": {
      "text/plain": [
       "['email Frank', 'meet with Zach']"
      ]
     },
     "execution_count": 19,
     "metadata": {},
     "output_type": "execute_result"
    }
   ],
   "source": [
    "tasks #it has deleted"
   ]
  },
  {
   "cell_type": "code",
   "execution_count": 20,
   "id": "37d5ecd9",
   "metadata": {},
   "outputs": [],
   "source": [
    "tasks.remove(\"email Frank\")"
   ]
  },
  {
   "cell_type": "code",
   "execution_count": 21,
   "id": "6a5dc410",
   "metadata": {},
   "outputs": [
    {
     "data": {
      "text/plain": [
       "['meet with Zach']"
      ]
     },
     "execution_count": 21,
     "metadata": {},
     "output_type": "execute_result"
    }
   ],
   "source": [
    "tasks"
   ]
  },
  {
   "cell_type": "markdown",
   "id": "429d4baa",
   "metadata": {},
   "source": [
    "#  Popping Elements"
   ]
  },
  {
   "cell_type": "code",
   "execution_count": 22,
   "id": "8d20c812",
   "metadata": {},
   "outputs": [],
   "source": [
    "names = [\"Umair Sardar\", \"Niaz Ali\", \"Salman\", \"Noman\"]"
   ]
  },
  {
   "cell_type": "code",
   "execution_count": 23,
   "id": "7dcc471a",
   "metadata": {},
   "outputs": [
    {
     "data": {
      "text/plain": [
       "['Umair Sardar', 'Niaz Ali', 'Salman', 'Noman']"
      ]
     },
     "execution_count": 23,
     "metadata": {},
     "output_type": "execute_result"
    }
   ],
   "source": [
    "names"
   ]
  },
  {
   "cell_type": "code",
   "execution_count": 24,
   "id": "4a633203",
   "metadata": {},
   "outputs": [
    {
     "data": {
      "text/plain": [
       "'Niaz Ali'"
      ]
     },
     "execution_count": 24,
     "metadata": {},
     "output_type": "execute_result"
    }
   ],
   "source": [
    "names.pop(1)"
   ]
  },
  {
   "cell_type": "code",
   "execution_count": 25,
   "id": "44a70ca6",
   "metadata": {},
   "outputs": [],
   "source": [
    "daily_tasks = [\"email Umair\", \"call Niaz\", \"meet with Noman\"]"
   ]
  },
  {
   "cell_type": "code",
   "execution_count": 26,
   "id": "04f3ab8a",
   "metadata": {},
   "outputs": [],
   "source": [
    "completed_tasks = []"
   ]
  },
  {
   "cell_type": "code",
   "execution_count": 27,
   "id": "37be22de",
   "metadata": {},
   "outputs": [],
   "source": [
    "completed_tasks.insert(0, daily_tasks.pop(1))"
   ]
  },
  {
   "cell_type": "code",
   "execution_count": 28,
   "id": "10c8b4dd",
   "metadata": {},
   "outputs": [
    {
     "data": {
      "text/plain": [
       "['call Niaz']"
      ]
     },
     "execution_count": 28,
     "metadata": {},
     "output_type": "execute_result"
    }
   ],
   "source": [
    "completed_tasks"
   ]
  },
  {
   "cell_type": "markdown",
   "id": "bda9c001",
   "metadata": {},
   "source": [
    "# Tuples"
   ]
  },
  {
   "cell_type": "code",
   "execution_count": 29,
   "id": "faec51e2",
   "metadata": {},
   "outputs": [],
   "source": [
    "names_of_classmates = (\"Umair\", \"Niaz\", \"Noman\")"
   ]
  },
  {
   "cell_type": "code",
   "execution_count": 30,
   "id": "29c9c97c",
   "metadata": {},
   "outputs": [
    {
     "data": {
      "text/plain": [
       "tuple"
      ]
     },
     "execution_count": 30,
     "metadata": {},
     "output_type": "execute_result"
    }
   ],
   "source": [
    "type(names_of_classmates)"
   ]
  },
  {
   "cell_type": "code",
   "execution_count": 31,
   "id": "55c185ec",
   "metadata": {},
   "outputs": [
    {
     "ename": "AttributeError",
     "evalue": "'tuple' object has no attribute 'append'",
     "output_type": "error",
     "traceback": [
      "\u001b[1;31m---------------------------------------------------------------------------\u001b[0m",
      "\u001b[1;31mAttributeError\u001b[0m                            Traceback (most recent call last)",
      "Cell \u001b[1;32mIn[31], line 1\u001b[0m\n\u001b[1;32m----> 1\u001b[0m names_of_classmates\u001b[38;5;241m.\u001b[39mappend(\u001b[38;5;124m\"\u001b[39m\u001b[38;5;124mSalman\u001b[39m\u001b[38;5;124m\"\u001b[39m)\n",
      "\u001b[1;31mAttributeError\u001b[0m: 'tuple' object has no attribute 'append'"
     ]
    }
   ],
   "source": [
    "names_of_classmates.append(\"Salman\") #we can't add anything in tuple"
   ]
  },
  {
   "cell_type": "code",
   "execution_count": null,
   "id": "a007416f",
   "metadata": {},
   "outputs": [],
   "source": [
    "names_of_classmates.index('Umair')"
   ]
  },
  {
   "cell_type": "code",
   "execution_count": null,
   "id": "8bd3391c",
   "metadata": {},
   "outputs": [],
   "source": [
    "names_of_classmates.count(\"Umair\")"
   ]
  },
  {
   "cell_type": "markdown",
   "id": "14c25850",
   "metadata": {},
   "source": [
    "#  for loops"
   ]
  },
  {
   "cell_type": "code",
   "execution_count": 32,
   "id": "535eb1ec",
   "metadata": {},
   "outputs": [
    {
     "data": {
      "text/plain": [
       "['Pakistan',\n",
       " 'China',\n",
       " 'Canada',\n",
       " 'Pakistan',\n",
       " 'Afghanistan',\n",
       " 'India',\n",
       " 'Iran',\n",
       " 'Turkey',\n",
       " 'New York']"
      ]
     },
     "execution_count": 32,
     "metadata": {},
     "output_type": "execute_result"
    }
   ],
   "source": [
    "countries"
   ]
  },
  {
   "cell_type": "code",
   "execution_count": 33,
   "id": "3aa4595e",
   "metadata": {},
   "outputs": [
    {
     "name": "stdout",
     "output_type": "stream",
     "text": [
      "Pakistan Zindabad\n",
      "Not available\n",
      "Not available\n",
      "Pakistan Zindabad\n",
      "Not available\n",
      "Not available\n",
      "Not available\n",
      "Not available\n",
      "Not available\n"
     ]
    }
   ],
   "source": [
    "for temp in countries:\n",
    "    if temp == \"Pakistan\":\n",
    "        print(\"Pakistan Zindabad\")\n",
    "    else:\n",
    "        print(\"Not available\")"
   ]
  },
  {
   "cell_type": "code",
   "execution_count": 34,
   "id": "e5b0183f",
   "metadata": {},
   "outputs": [
    {
     "name": "stdout",
     "output_type": "stream",
     "text": [
      "Pakistan\n",
      "China\n",
      "Canada\n",
      "Pakistan\n",
      "Afghanistan\n",
      "India\n",
      "Iran\n",
      "Turkey\n",
      "New York\n"
     ]
    }
   ],
   "source": [
    "for temp in countries:\n",
    "    print (temp)"
   ]
  },
  {
   "cell_type": "code",
   "execution_count": 44,
   "id": "03d65e66",
   "metadata": {},
   "outputs": [
    {
     "name": "stdout",
     "output_type": "stream",
     "text": [
      "Enter a Year: 1600\n",
      "1600 is a loop year\n"
     ]
    }
   ],
   "source": [
    "year = int(input(\"Enter a Year: \"))\n",
    "if (year % 4 ==0) and (year % 100 ==0) and (year % 400 ==0):\n",
    "    print(f\"{year} is a loop year\")\n",
    "else:\n",
    "    print (f\"{year} is not a year\")"
   ]
  },
  {
   "cell_type": "code",
   "execution_count": 46,
   "id": "b74228a8",
   "metadata": {},
   "outputs": [
    {
     "name": "stdout",
     "output_type": "stream",
     "text": [
      "1600 is a loop year\n",
      "1700 is not a year\n",
      "1800 is not a year\n",
      "1900 is not a year\n",
      "2000 is a loop year\n"
     ]
    }
   ],
   "source": [
    "for year in [1600, 1700, 1800, 1900, 2000]:\n",
    "    \n",
    "    if (year % 4 ==0) and (year % 100 ==0) and (year % 400 ==0):\n",
    "        print(f\"{year} is a loop year\")\n",
    "    else:\n",
    "        print (f\"{year} is not a year\")"
   ]
  },
  {
   "cell_type": "code",
   "execution_count": 51,
   "id": "d3fa2121",
   "metadata": {},
   "outputs": [
    {
     "name": "stdout",
     "output_type": "stream",
     "text": [
      "10\n",
      "12\n",
      "14\n",
      "16\n",
      "18\n"
     ]
    }
   ],
   "source": [
    "#start(s) end(e), step(st)\n",
    "\n",
    "                # s   e  st\n",
    "for temp in range(10, 19, 2):\n",
    "    print(temp)"
   ]
  }
 ],
 "metadata": {
  "kernelspec": {
   "display_name": "Python 3 (ipykernel)",
   "language": "python",
   "name": "python3"
  },
  "language_info": {
   "codemirror_mode": {
    "name": "ipython",
    "version": 3
   },
   "file_extension": ".py",
   "mimetype": "text/x-python",
   "name": "python",
   "nbconvert_exporter": "python",
   "pygments_lexer": "ipython3",
   "version": "3.11.5"
  }
 },
 "nbformat": 4,
 "nbformat_minor": 5
}
